{
  "nbformat": 4,
  "nbformat_minor": 0,
  "metadata": {
    "colab": {
      "name": "MLB_Pythagorean_expectation.ipynb",
      "provenance": []
    },
    "kernelspec": {
      "name": "python3",
      "display_name": "Python 3"
    },
    "language_info": {
      "name": "python"
    }
  },
  "cells": [
    {
      "cell_type": "code",
      "metadata": {
        "id": "PgitL0y6FE7N"
      },
      "source": [
        "import pandas as pd\n",
        "import numpy as np\n",
        "import seaborn as sns\n",
        "import sklearn as sk\n",
        "import matplotlib.pyplot as plt"
      ],
      "execution_count": 1,
      "outputs": []
    },
    {
      "cell_type": "code",
      "metadata": {
        "colab": {
          "base_uri": "https://localhost:8080/"
        },
        "id": "fI_dO8QwFi7T",
        "outputId": "3e5e8096-a9d4-4b58-a4bd-3332868200b0"
      },
      "source": [
        "!wget https://github.com/Dinesh-Adhithya-H/Machine-learning-in-Football/blob/main/GL2018.TXT?raw=true"
      ],
      "execution_count": 2,
      "outputs": [
        {
          "output_type": "stream",
          "text": [
            "--2021-06-24 06:39:20--  https://github.com/Dinesh-Adhithya-H/Machine-learning-in-Football/blob/main/GL2018.TXT?raw=true\n",
            "Resolving github.com (github.com)... 140.82.112.3\n",
            "Connecting to github.com (github.com)|140.82.112.3|:443... connected.\n",
            "HTTP request sent, awaiting response... 302 Found\n",
            "Location: https://github.com/Dinesh-Adhithya-H/Machine-learning-in-Football/raw/main/GL2018.TXT [following]\n",
            "--2021-06-24 06:39:20--  https://github.com/Dinesh-Adhithya-H/Machine-learning-in-Football/raw/main/GL2018.TXT\n",
            "Reusing existing connection to github.com:443.\n",
            "HTTP request sent, awaiting response... 302 Found\n",
            "Location: https://raw.githubusercontent.com/Dinesh-Adhithya-H/Machine-learning-in-Football/main/GL2018.TXT [following]\n",
            "--2021-06-24 06:39:20--  https://raw.githubusercontent.com/Dinesh-Adhithya-H/Machine-learning-in-Football/main/GL2018.TXT\n",
            "Resolving raw.githubusercontent.com (raw.githubusercontent.com)... 185.199.110.133, 185.199.109.133, 185.199.108.133, ...\n",
            "Connecting to raw.githubusercontent.com (raw.githubusercontent.com)|185.199.110.133|:443... connected.\n",
            "HTTP request sent, awaiting response... 200 OK\n",
            "Length: 2650923 (2.5M) [text/plain]\n",
            "Saving to: ‘GL2018.TXT?raw=true’\n",
            "\n",
            "GL2018.TXT?raw=true 100%[===================>]   2.53M  --.-KB/s    in 0.1s    \n",
            "\n",
            "2021-06-24 06:39:21 (22.5 MB/s) - ‘GL2018.TXT?raw=true’ saved [2650923/2650923]\n",
            "\n"
          ],
          "name": "stdout"
        }
      ]
    },
    {
      "cell_type": "markdown",
      "metadata": {
        "id": "rJvZmyrGHzhR"
      },
      "source": [
        "Column names and description can be found here : https://www.retrosheet.org/gamelogs/glfields.txt"
      ]
    },
    {
      "cell_type": "code",
      "metadata": {
        "id": "BYGVUKU3HP2h"
      },
      "source": [
        "MLB=pd.read_csv(\"GL2018.TXT?raw=true\",header=None)"
      ],
      "execution_count": 3,
      "outputs": []
    },
    {
      "cell_type": "code",
      "metadata": {
        "colab": {
          "base_uri": "https://localhost:8080/",
          "height": 342
        },
        "id": "27HGUhGjHWCz",
        "outputId": "79a3a00f-d048-4758-c08c-5d8cda837b60"
      },
      "source": [
        "MLB.head()"
      ],
      "execution_count": 4,
      "outputs": [
        {
          "output_type": "execute_result",
          "data": {
            "text/html": [
              "<div>\n",
              "<style scoped>\n",
              "    .dataframe tbody tr th:only-of-type {\n",
              "        vertical-align: middle;\n",
              "    }\n",
              "\n",
              "    .dataframe tbody tr th {\n",
              "        vertical-align: top;\n",
              "    }\n",
              "\n",
              "    .dataframe thead th {\n",
              "        text-align: right;\n",
              "    }\n",
              "</style>\n",
              "<table border=\"1\" class=\"dataframe\">\n",
              "  <thead>\n",
              "    <tr style=\"text-align: right;\">\n",
              "      <th></th>\n",
              "      <th>0</th>\n",
              "      <th>1</th>\n",
              "      <th>2</th>\n",
              "      <th>3</th>\n",
              "      <th>4</th>\n",
              "      <th>5</th>\n",
              "      <th>6</th>\n",
              "      <th>7</th>\n",
              "      <th>8</th>\n",
              "      <th>9</th>\n",
              "      <th>10</th>\n",
              "      <th>11</th>\n",
              "      <th>12</th>\n",
              "      <th>13</th>\n",
              "      <th>14</th>\n",
              "      <th>15</th>\n",
              "      <th>16</th>\n",
              "      <th>17</th>\n",
              "      <th>18</th>\n",
              "      <th>19</th>\n",
              "      <th>20</th>\n",
              "      <th>21</th>\n",
              "      <th>22</th>\n",
              "      <th>23</th>\n",
              "      <th>24</th>\n",
              "      <th>25</th>\n",
              "      <th>26</th>\n",
              "      <th>27</th>\n",
              "      <th>28</th>\n",
              "      <th>29</th>\n",
              "      <th>30</th>\n",
              "      <th>31</th>\n",
              "      <th>32</th>\n",
              "      <th>33</th>\n",
              "      <th>34</th>\n",
              "      <th>35</th>\n",
              "      <th>36</th>\n",
              "      <th>37</th>\n",
              "      <th>38</th>\n",
              "      <th>39</th>\n",
              "      <th>...</th>\n",
              "      <th>121</th>\n",
              "      <th>122</th>\n",
              "      <th>123</th>\n",
              "      <th>124</th>\n",
              "      <th>125</th>\n",
              "      <th>126</th>\n",
              "      <th>127</th>\n",
              "      <th>128</th>\n",
              "      <th>129</th>\n",
              "      <th>130</th>\n",
              "      <th>131</th>\n",
              "      <th>132</th>\n",
              "      <th>133</th>\n",
              "      <th>134</th>\n",
              "      <th>135</th>\n",
              "      <th>136</th>\n",
              "      <th>137</th>\n",
              "      <th>138</th>\n",
              "      <th>139</th>\n",
              "      <th>140</th>\n",
              "      <th>141</th>\n",
              "      <th>142</th>\n",
              "      <th>143</th>\n",
              "      <th>144</th>\n",
              "      <th>145</th>\n",
              "      <th>146</th>\n",
              "      <th>147</th>\n",
              "      <th>148</th>\n",
              "      <th>149</th>\n",
              "      <th>150</th>\n",
              "      <th>151</th>\n",
              "      <th>152</th>\n",
              "      <th>153</th>\n",
              "      <th>154</th>\n",
              "      <th>155</th>\n",
              "      <th>156</th>\n",
              "      <th>157</th>\n",
              "      <th>158</th>\n",
              "      <th>159</th>\n",
              "      <th>160</th>\n",
              "    </tr>\n",
              "  </thead>\n",
              "  <tbody>\n",
              "    <tr>\n",
              "      <th>0</th>\n",
              "      <td>20180329</td>\n",
              "      <td>0</td>\n",
              "      <td>Thu</td>\n",
              "      <td>COL</td>\n",
              "      <td>NL</td>\n",
              "      <td>1</td>\n",
              "      <td>ARI</td>\n",
              "      <td>NL</td>\n",
              "      <td>1</td>\n",
              "      <td>2</td>\n",
              "      <td>8</td>\n",
              "      <td>51</td>\n",
              "      <td>N</td>\n",
              "      <td>NaN</td>\n",
              "      <td>NaN</td>\n",
              "      <td>NaN</td>\n",
              "      <td>PHO01</td>\n",
              "      <td>48703</td>\n",
              "      <td>216</td>\n",
              "      <td>100001000</td>\n",
              "      <td>30000320x</td>\n",
              "      <td>33</td>\n",
              "      <td>9</td>\n",
              "      <td>0</td>\n",
              "      <td>0</td>\n",
              "      <td>2</td>\n",
              "      <td>2</td>\n",
              "      <td>1</td>\n",
              "      <td>0</td>\n",
              "      <td>0</td>\n",
              "      <td>2</td>\n",
              "      <td>0</td>\n",
              "      <td>12</td>\n",
              "      <td>0</td>\n",
              "      <td>0</td>\n",
              "      <td>2</td>\n",
              "      <td>0</td>\n",
              "      <td>7</td>\n",
              "      <td>5</td>\n",
              "      <td>8</td>\n",
              "      <td>...</td>\n",
              "      <td>Ian Desmond</td>\n",
              "      <td>3</td>\n",
              "      <td>parrg001</td>\n",
              "      <td>Gerardo Parra</td>\n",
              "      <td>7</td>\n",
              "      <td>iannc001</td>\n",
              "      <td>Chris Iannetta</td>\n",
              "      <td>2</td>\n",
              "      <td>grayj003</td>\n",
              "      <td>Jon Gray</td>\n",
              "      <td>1</td>\n",
              "      <td>perad001</td>\n",
              "      <td>David Peralta</td>\n",
              "      <td>7</td>\n",
              "      <td>polla001</td>\n",
              "      <td>A.J. Pollock</td>\n",
              "      <td>8</td>\n",
              "      <td>goldp001</td>\n",
              "      <td>Paul Goldschmidt</td>\n",
              "      <td>3</td>\n",
              "      <td>lambj001</td>\n",
              "      <td>Jake Lamb</td>\n",
              "      <td>5</td>\n",
              "      <td>martk001</td>\n",
              "      <td>Ketel Marte</td>\n",
              "      <td>4</td>\n",
              "      <td>avila001</td>\n",
              "      <td>Alex Avila</td>\n",
              "      <td>2</td>\n",
              "      <td>ahmen001</td>\n",
              "      <td>Nick Ahmed</td>\n",
              "      <td>6</td>\n",
              "      <td>dysoj001</td>\n",
              "      <td>Jarrod Dyson</td>\n",
              "      <td>9</td>\n",
              "      <td>corbp001</td>\n",
              "      <td>Patrick Corbin</td>\n",
              "      <td>1</td>\n",
              "      <td>NaN</td>\n",
              "      <td>Y</td>\n",
              "    </tr>\n",
              "    <tr>\n",
              "      <th>1</th>\n",
              "      <td>20180329</td>\n",
              "      <td>0</td>\n",
              "      <td>Thu</td>\n",
              "      <td>PHI</td>\n",
              "      <td>NL</td>\n",
              "      <td>1</td>\n",
              "      <td>ATL</td>\n",
              "      <td>NL</td>\n",
              "      <td>1</td>\n",
              "      <td>5</td>\n",
              "      <td>8</td>\n",
              "      <td>53</td>\n",
              "      <td>D</td>\n",
              "      <td>NaN</td>\n",
              "      <td>NaN</td>\n",
              "      <td>NaN</td>\n",
              "      <td>ATL03</td>\n",
              "      <td>40208</td>\n",
              "      <td>208</td>\n",
              "      <td>100004000</td>\n",
              "      <td>000002033</td>\n",
              "      <td>31</td>\n",
              "      <td>6</td>\n",
              "      <td>2</td>\n",
              "      <td>0</td>\n",
              "      <td>1</td>\n",
              "      <td>5</td>\n",
              "      <td>0</td>\n",
              "      <td>0</td>\n",
              "      <td>1</td>\n",
              "      <td>6</td>\n",
              "      <td>0</td>\n",
              "      <td>11</td>\n",
              "      <td>1</td>\n",
              "      <td>0</td>\n",
              "      <td>2</td>\n",
              "      <td>0</td>\n",
              "      <td>6</td>\n",
              "      <td>6</td>\n",
              "      <td>7</td>\n",
              "      <td>...</td>\n",
              "      <td>J.P. Crawford</td>\n",
              "      <td>6</td>\n",
              "      <td>franm004</td>\n",
              "      <td>Maikel Franco</td>\n",
              "      <td>5</td>\n",
              "      <td>knapa001</td>\n",
              "      <td>Andrew Knapp</td>\n",
              "      <td>2</td>\n",
              "      <td>nolaa001</td>\n",
              "      <td>Aaron Nola</td>\n",
              "      <td>1</td>\n",
              "      <td>incie001</td>\n",
              "      <td>Ender Inciarte</td>\n",
              "      <td>8</td>\n",
              "      <td>albio001</td>\n",
              "      <td>Ozzie Albies</td>\n",
              "      <td>4</td>\n",
              "      <td>freef001</td>\n",
              "      <td>Freddie Freeman</td>\n",
              "      <td>3</td>\n",
              "      <td>markn001</td>\n",
              "      <td>Nick Markakis</td>\n",
              "      <td>9</td>\n",
              "      <td>flowt001</td>\n",
              "      <td>Tyler Flowers</td>\n",
              "      <td>2</td>\n",
              "      <td>tuckp001</td>\n",
              "      <td>Preston Tucker</td>\n",
              "      <td>7</td>\n",
              "      <td>swand001</td>\n",
              "      <td>Dansby Swanson</td>\n",
              "      <td>6</td>\n",
              "      <td>flahr001</td>\n",
              "      <td>Ryan Flaherty</td>\n",
              "      <td>5</td>\n",
              "      <td>tehej001</td>\n",
              "      <td>Julio Teheran</td>\n",
              "      <td>1</td>\n",
              "      <td>NaN</td>\n",
              "      <td>Y</td>\n",
              "    </tr>\n",
              "    <tr>\n",
              "      <th>2</th>\n",
              "      <td>20180329</td>\n",
              "      <td>0</td>\n",
              "      <td>Thu</td>\n",
              "      <td>SFN</td>\n",
              "      <td>NL</td>\n",
              "      <td>1</td>\n",
              "      <td>LAN</td>\n",
              "      <td>NL</td>\n",
              "      <td>1</td>\n",
              "      <td>1</td>\n",
              "      <td>0</td>\n",
              "      <td>54</td>\n",
              "      <td>D</td>\n",
              "      <td>NaN</td>\n",
              "      <td>NaN</td>\n",
              "      <td>NaN</td>\n",
              "      <td>LOS03</td>\n",
              "      <td>53595</td>\n",
              "      <td>175</td>\n",
              "      <td>000010000</td>\n",
              "      <td>000000000</td>\n",
              "      <td>34</td>\n",
              "      <td>8</td>\n",
              "      <td>2</td>\n",
              "      <td>0</td>\n",
              "      <td>1</td>\n",
              "      <td>1</td>\n",
              "      <td>0</td>\n",
              "      <td>0</td>\n",
              "      <td>0</td>\n",
              "      <td>2</td>\n",
              "      <td>0</td>\n",
              "      <td>11</td>\n",
              "      <td>0</td>\n",
              "      <td>0</td>\n",
              "      <td>1</td>\n",
              "      <td>0</td>\n",
              "      <td>8</td>\n",
              "      <td>5</td>\n",
              "      <td>0</td>\n",
              "      <td>...</td>\n",
              "      <td>Hunter Pence</td>\n",
              "      <td>7</td>\n",
              "      <td>beltb001</td>\n",
              "      <td>Brandon Belt</td>\n",
              "      <td>3</td>\n",
              "      <td>crawb001</td>\n",
              "      <td>Brandon Crawford</td>\n",
              "      <td>6</td>\n",
              "      <td>blact002</td>\n",
              "      <td>Ty Blach</td>\n",
              "      <td>1</td>\n",
              "      <td>taylc001</td>\n",
              "      <td>Chris Taylor</td>\n",
              "      <td>8</td>\n",
              "      <td>seagc001</td>\n",
              "      <td>Corey Seager</td>\n",
              "      <td>6</td>\n",
              "      <td>puigy001</td>\n",
              "      <td>Yasiel Puig</td>\n",
              "      <td>9</td>\n",
              "      <td>herne001</td>\n",
              "      <td>Enrique Hernandez</td>\n",
              "      <td>4</td>\n",
              "      <td>bellc002</td>\n",
              "      <td>Cody Bellinger</td>\n",
              "      <td>3</td>\n",
              "      <td>kempm001</td>\n",
              "      <td>Matt Kemp</td>\n",
              "      <td>7</td>\n",
              "      <td>grany001</td>\n",
              "      <td>Yasmani Grandal</td>\n",
              "      <td>2</td>\n",
              "      <td>forsl001</td>\n",
              "      <td>Logan Forsythe</td>\n",
              "      <td>5</td>\n",
              "      <td>kersc001</td>\n",
              "      <td>Clayton Kershaw</td>\n",
              "      <td>1</td>\n",
              "      <td>NaN</td>\n",
              "      <td>Y</td>\n",
              "    </tr>\n",
              "    <tr>\n",
              "      <th>3</th>\n",
              "      <td>20180329</td>\n",
              "      <td>0</td>\n",
              "      <td>Thu</td>\n",
              "      <td>CHN</td>\n",
              "      <td>NL</td>\n",
              "      <td>1</td>\n",
              "      <td>MIA</td>\n",
              "      <td>NL</td>\n",
              "      <td>1</td>\n",
              "      <td>8</td>\n",
              "      <td>4</td>\n",
              "      <td>54</td>\n",
              "      <td>D</td>\n",
              "      <td>NaN</td>\n",
              "      <td>NaN</td>\n",
              "      <td>NaN</td>\n",
              "      <td>MIA02</td>\n",
              "      <td>32151</td>\n",
              "      <td>198</td>\n",
              "      <td>310100300</td>\n",
              "      <td>103000000</td>\n",
              "      <td>35</td>\n",
              "      <td>9</td>\n",
              "      <td>4</td>\n",
              "      <td>0</td>\n",
              "      <td>3</td>\n",
              "      <td>8</td>\n",
              "      <td>0</td>\n",
              "      <td>0</td>\n",
              "      <td>3</td>\n",
              "      <td>5</td>\n",
              "      <td>2</td>\n",
              "      <td>10</td>\n",
              "      <td>1</td>\n",
              "      <td>0</td>\n",
              "      <td>1</td>\n",
              "      <td>1</td>\n",
              "      <td>9</td>\n",
              "      <td>6</td>\n",
              "      <td>3</td>\n",
              "      <td>...</td>\n",
              "      <td>Addison Russell</td>\n",
              "      <td>6</td>\n",
              "      <td>heywj001</td>\n",
              "      <td>Jason Heyward</td>\n",
              "      <td>9</td>\n",
              "      <td>baezj001</td>\n",
              "      <td>Javier Baez</td>\n",
              "      <td>4</td>\n",
              "      <td>lestj001</td>\n",
              "      <td>Jon Lester</td>\n",
              "      <td>1</td>\n",
              "      <td>brinl001</td>\n",
              "      <td>Lewis Brinson</td>\n",
              "      <td>8</td>\n",
              "      <td>dietd001</td>\n",
              "      <td>Derek Dietrich</td>\n",
              "      <td>7</td>\n",
              "      <td>casts001</td>\n",
              "      <td>Starlin Castro</td>\n",
              "      <td>4</td>\n",
              "      <td>bourj002</td>\n",
              "      <td>Justin Bour</td>\n",
              "      <td>3</td>\n",
              "      <td>andeb006</td>\n",
              "      <td>Brian Anderson</td>\n",
              "      <td>5</td>\n",
              "      <td>coopg002</td>\n",
              "      <td>Garrett Cooper</td>\n",
              "      <td>9</td>\n",
              "      <td>rojam002</td>\n",
              "      <td>Miguel Rojas</td>\n",
              "      <td>6</td>\n",
              "      <td>wallc001</td>\n",
              "      <td>Chad Wallach</td>\n",
              "      <td>2</td>\n",
              "      <td>urenj001</td>\n",
              "      <td>Jose Urena</td>\n",
              "      <td>1</td>\n",
              "      <td>NaN</td>\n",
              "      <td>Y</td>\n",
              "    </tr>\n",
              "    <tr>\n",
              "      <th>4</th>\n",
              "      <td>20180329</td>\n",
              "      <td>0</td>\n",
              "      <td>Thu</td>\n",
              "      <td>SLN</td>\n",
              "      <td>NL</td>\n",
              "      <td>1</td>\n",
              "      <td>NYN</td>\n",
              "      <td>NL</td>\n",
              "      <td>1</td>\n",
              "      <td>4</td>\n",
              "      <td>9</td>\n",
              "      <td>51</td>\n",
              "      <td>D</td>\n",
              "      <td>NaN</td>\n",
              "      <td>NaN</td>\n",
              "      <td>NaN</td>\n",
              "      <td>NYC20</td>\n",
              "      <td>44189</td>\n",
              "      <td>181</td>\n",
              "      <td>020101000</td>\n",
              "      <td>12005001x</td>\n",
              "      <td>33</td>\n",
              "      <td>6</td>\n",
              "      <td>1</td>\n",
              "      <td>0</td>\n",
              "      <td>2</td>\n",
              "      <td>4</td>\n",
              "      <td>0</td>\n",
              "      <td>0</td>\n",
              "      <td>0</td>\n",
              "      <td>1</td>\n",
              "      <td>0</td>\n",
              "      <td>15</td>\n",
              "      <td>0</td>\n",
              "      <td>0</td>\n",
              "      <td>0</td>\n",
              "      <td>0</td>\n",
              "      <td>3</td>\n",
              "      <td>6</td>\n",
              "      <td>8</td>\n",
              "      <td>...</td>\n",
              "      <td>Yadier Molina</td>\n",
              "      <td>2</td>\n",
              "      <td>dejop001</td>\n",
              "      <td>Paul DeJong</td>\n",
              "      <td>6</td>\n",
              "      <td>wongk001</td>\n",
              "      <td>Kolten Wong</td>\n",
              "      <td>4</td>\n",
              "      <td>martc006</td>\n",
              "      <td>Carlos Martinez</td>\n",
              "      <td>1</td>\n",
              "      <td>nimmb001</td>\n",
              "      <td>Brandon Nimmo</td>\n",
              "      <td>8</td>\n",
              "      <td>cespy001</td>\n",
              "      <td>Yoenis Cespedes</td>\n",
              "      <td>7</td>\n",
              "      <td>brucj001</td>\n",
              "      <td>Jay Bruce</td>\n",
              "      <td>9</td>\n",
              "      <td>cabra002</td>\n",
              "      <td>Asdrubal Cabrera</td>\n",
              "      <td>4</td>\n",
              "      <td>frazt001</td>\n",
              "      <td>Todd Frazier</td>\n",
              "      <td>5</td>\n",
              "      <td>gonza003</td>\n",
              "      <td>Adrian Gonzalez</td>\n",
              "      <td>3</td>\n",
              "      <td>plawk001</td>\n",
              "      <td>Kevin Plawecki</td>\n",
              "      <td>2</td>\n",
              "      <td>syndn001</td>\n",
              "      <td>Noah Syndergaard</td>\n",
              "      <td>1</td>\n",
              "      <td>rosaa003</td>\n",
              "      <td>Amed Rosario</td>\n",
              "      <td>6</td>\n",
              "      <td>NaN</td>\n",
              "      <td>Y</td>\n",
              "    </tr>\n",
              "  </tbody>\n",
              "</table>\n",
              "<p>5 rows × 161 columns</p>\n",
              "</div>"
            ],
            "text/plain": [
              "        0    1    2    3   4    ...       156              157 158  159  160\n",
              "0  20180329    0  Thu  COL  NL  ...  corbp001   Patrick Corbin   1  NaN    Y\n",
              "1  20180329    0  Thu  PHI  NL  ...  tehej001    Julio Teheran   1  NaN    Y\n",
              "2  20180329    0  Thu  SFN  NL  ...  kersc001  Clayton Kershaw   1  NaN    Y\n",
              "3  20180329    0  Thu  CHN  NL  ...  urenj001       Jose Urena   1  NaN    Y\n",
              "4  20180329    0  Thu  SLN  NL  ...  rosaa003     Amed Rosario   6  NaN    Y\n",
              "\n",
              "[5 rows x 161 columns]"
            ]
          },
          "metadata": {
            "tags": []
          },
          "execution_count": 4
        }
      ]
    },
    {
      "cell_type": "code",
      "metadata": {
        "id": "mMO2QrM2Izwf"
      },
      "source": [
        "data=MLB[[0,3,6,9,10]]"
      ],
      "execution_count": 5,
      "outputs": []
    },
    {
      "cell_type": "code",
      "metadata": {
        "id": "XLmGMv_mNN4U"
      },
      "source": [
        "data.columns=[\"date\",\"away\",\"home\",\"away-score\",\"home-score\"]"
      ],
      "execution_count": 6,
      "outputs": []
    },
    {
      "cell_type": "code",
      "metadata": {
        "colab": {
          "base_uri": "https://localhost:8080/",
          "height": 424
        },
        "id": "W2ah5VDmNYPl",
        "outputId": "1753f93d-7f77-4239-a3ef-49f651fa62fc"
      },
      "source": [
        "data"
      ],
      "execution_count": 7,
      "outputs": [
        {
          "output_type": "execute_result",
          "data": {
            "text/html": [
              "<div>\n",
              "<style scoped>\n",
              "    .dataframe tbody tr th:only-of-type {\n",
              "        vertical-align: middle;\n",
              "    }\n",
              "\n",
              "    .dataframe tbody tr th {\n",
              "        vertical-align: top;\n",
              "    }\n",
              "\n",
              "    .dataframe thead th {\n",
              "        text-align: right;\n",
              "    }\n",
              "</style>\n",
              "<table border=\"1\" class=\"dataframe\">\n",
              "  <thead>\n",
              "    <tr style=\"text-align: right;\">\n",
              "      <th></th>\n",
              "      <th>date</th>\n",
              "      <th>away</th>\n",
              "      <th>home</th>\n",
              "      <th>away-score</th>\n",
              "      <th>home-score</th>\n",
              "    </tr>\n",
              "  </thead>\n",
              "  <tbody>\n",
              "    <tr>\n",
              "      <th>0</th>\n",
              "      <td>20180329</td>\n",
              "      <td>COL</td>\n",
              "      <td>ARI</td>\n",
              "      <td>2</td>\n",
              "      <td>8</td>\n",
              "    </tr>\n",
              "    <tr>\n",
              "      <th>1</th>\n",
              "      <td>20180329</td>\n",
              "      <td>PHI</td>\n",
              "      <td>ATL</td>\n",
              "      <td>5</td>\n",
              "      <td>8</td>\n",
              "    </tr>\n",
              "    <tr>\n",
              "      <th>2</th>\n",
              "      <td>20180329</td>\n",
              "      <td>SFN</td>\n",
              "      <td>LAN</td>\n",
              "      <td>1</td>\n",
              "      <td>0</td>\n",
              "    </tr>\n",
              "    <tr>\n",
              "      <th>3</th>\n",
              "      <td>20180329</td>\n",
              "      <td>CHN</td>\n",
              "      <td>MIA</td>\n",
              "      <td>8</td>\n",
              "      <td>4</td>\n",
              "    </tr>\n",
              "    <tr>\n",
              "      <th>4</th>\n",
              "      <td>20180329</td>\n",
              "      <td>SLN</td>\n",
              "      <td>NYN</td>\n",
              "      <td>4</td>\n",
              "      <td>9</td>\n",
              "    </tr>\n",
              "    <tr>\n",
              "      <th>...</th>\n",
              "      <td>...</td>\n",
              "      <td>...</td>\n",
              "      <td>...</td>\n",
              "      <td>...</td>\n",
              "      <td>...</td>\n",
              "    </tr>\n",
              "    <tr>\n",
              "      <th>2426</th>\n",
              "      <td>20180930</td>\n",
              "      <td>CHA</td>\n",
              "      <td>MIN</td>\n",
              "      <td>4</td>\n",
              "      <td>5</td>\n",
              "    </tr>\n",
              "    <tr>\n",
              "      <th>2427</th>\n",
              "      <td>20180930</td>\n",
              "      <td>TEX</td>\n",
              "      <td>SEA</td>\n",
              "      <td>1</td>\n",
              "      <td>3</td>\n",
              "    </tr>\n",
              "    <tr>\n",
              "      <th>2428</th>\n",
              "      <td>20180930</td>\n",
              "      <td>TOR</td>\n",
              "      <td>TBA</td>\n",
              "      <td>4</td>\n",
              "      <td>9</td>\n",
              "    </tr>\n",
              "    <tr>\n",
              "      <th>2429</th>\n",
              "      <td>20181001</td>\n",
              "      <td>MIL</td>\n",
              "      <td>CHN</td>\n",
              "      <td>3</td>\n",
              "      <td>1</td>\n",
              "    </tr>\n",
              "    <tr>\n",
              "      <th>2430</th>\n",
              "      <td>20181001</td>\n",
              "      <td>COL</td>\n",
              "      <td>LAN</td>\n",
              "      <td>2</td>\n",
              "      <td>5</td>\n",
              "    </tr>\n",
              "  </tbody>\n",
              "</table>\n",
              "<p>2431 rows × 5 columns</p>\n",
              "</div>"
            ],
            "text/plain": [
              "          date away home  away-score  home-score\n",
              "0     20180329  COL  ARI           2           8\n",
              "1     20180329  PHI  ATL           5           8\n",
              "2     20180329  SFN  LAN           1           0\n",
              "3     20180329  CHN  MIA           8           4\n",
              "4     20180329  SLN  NYN           4           9\n",
              "...        ...  ...  ...         ...         ...\n",
              "2426  20180930  CHA  MIN           4           5\n",
              "2427  20180930  TEX  SEA           1           3\n",
              "2428  20180930  TOR  TBA           4           9\n",
              "2429  20181001  MIL  CHN           3           1\n",
              "2430  20181001  COL  LAN           2           5\n",
              "\n",
              "[2431 rows x 5 columns]"
            ]
          },
          "metadata": {
            "tags": []
          },
          "execution_count": 7
        }
      ]
    },
    {
      "cell_type": "code",
      "metadata": {
        "colab": {
          "base_uri": "https://localhost:8080/"
        },
        "id": "lFmYREYcOcyq",
        "outputId": "6da46516-c90c-4941-ec63-910307fdeee0"
      },
      "source": [
        "data[\"home-win\"]=np.where(data[\"home-score\"]>data[\"away-score\"],1,0)\n",
        "data[\"away-win\"]=np.where(data[\"away-score\"]>data[\"home-score\"],1,0)\n",
        "data[\"count\"]=1"
      ],
      "execution_count": 8,
      "outputs": [
        {
          "output_type": "stream",
          "text": [
            "/usr/local/lib/python3.7/dist-packages/ipykernel_launcher.py:1: SettingWithCopyWarning: \n",
            "A value is trying to be set on a copy of a slice from a DataFrame.\n",
            "Try using .loc[row_indexer,col_indexer] = value instead\n",
            "\n",
            "See the caveats in the documentation: https://pandas.pydata.org/pandas-docs/stable/user_guide/indexing.html#returning-a-view-versus-a-copy\n",
            "  \"\"\"Entry point for launching an IPython kernel.\n",
            "/usr/local/lib/python3.7/dist-packages/ipykernel_launcher.py:2: SettingWithCopyWarning: \n",
            "A value is trying to be set on a copy of a slice from a DataFrame.\n",
            "Try using .loc[row_indexer,col_indexer] = value instead\n",
            "\n",
            "See the caveats in the documentation: https://pandas.pydata.org/pandas-docs/stable/user_guide/indexing.html#returning-a-view-versus-a-copy\n",
            "  \n",
            "/usr/local/lib/python3.7/dist-packages/ipykernel_launcher.py:3: SettingWithCopyWarning: \n",
            "A value is trying to be set on a copy of a slice from a DataFrame.\n",
            "Try using .loc[row_indexer,col_indexer] = value instead\n",
            "\n",
            "See the caveats in the documentation: https://pandas.pydata.org/pandas-docs/stable/user_guide/indexing.html#returning-a-view-versus-a-copy\n",
            "  This is separate from the ipykernel package so we can avoid doing imports until\n"
          ],
          "name": "stderr"
        }
      ]
    },
    {
      "cell_type": "code",
      "metadata": {
        "colab": {
          "base_uri": "https://localhost:8080/",
          "height": 424
        },
        "id": "-cWLNHFvsgEl",
        "outputId": "e1b96291-cee1-48f4-8b42-23a68a67b82e"
      },
      "source": [
        "data"
      ],
      "execution_count": 9,
      "outputs": [
        {
          "output_type": "execute_result",
          "data": {
            "text/html": [
              "<div>\n",
              "<style scoped>\n",
              "    .dataframe tbody tr th:only-of-type {\n",
              "        vertical-align: middle;\n",
              "    }\n",
              "\n",
              "    .dataframe tbody tr th {\n",
              "        vertical-align: top;\n",
              "    }\n",
              "\n",
              "    .dataframe thead th {\n",
              "        text-align: right;\n",
              "    }\n",
              "</style>\n",
              "<table border=\"1\" class=\"dataframe\">\n",
              "  <thead>\n",
              "    <tr style=\"text-align: right;\">\n",
              "      <th></th>\n",
              "      <th>date</th>\n",
              "      <th>away</th>\n",
              "      <th>home</th>\n",
              "      <th>away-score</th>\n",
              "      <th>home-score</th>\n",
              "      <th>home-win</th>\n",
              "      <th>away-win</th>\n",
              "      <th>count</th>\n",
              "    </tr>\n",
              "  </thead>\n",
              "  <tbody>\n",
              "    <tr>\n",
              "      <th>0</th>\n",
              "      <td>20180329</td>\n",
              "      <td>COL</td>\n",
              "      <td>ARI</td>\n",
              "      <td>2</td>\n",
              "      <td>8</td>\n",
              "      <td>1</td>\n",
              "      <td>0</td>\n",
              "      <td>1</td>\n",
              "    </tr>\n",
              "    <tr>\n",
              "      <th>1</th>\n",
              "      <td>20180329</td>\n",
              "      <td>PHI</td>\n",
              "      <td>ATL</td>\n",
              "      <td>5</td>\n",
              "      <td>8</td>\n",
              "      <td>1</td>\n",
              "      <td>0</td>\n",
              "      <td>1</td>\n",
              "    </tr>\n",
              "    <tr>\n",
              "      <th>2</th>\n",
              "      <td>20180329</td>\n",
              "      <td>SFN</td>\n",
              "      <td>LAN</td>\n",
              "      <td>1</td>\n",
              "      <td>0</td>\n",
              "      <td>0</td>\n",
              "      <td>1</td>\n",
              "      <td>1</td>\n",
              "    </tr>\n",
              "    <tr>\n",
              "      <th>3</th>\n",
              "      <td>20180329</td>\n",
              "      <td>CHN</td>\n",
              "      <td>MIA</td>\n",
              "      <td>8</td>\n",
              "      <td>4</td>\n",
              "      <td>0</td>\n",
              "      <td>1</td>\n",
              "      <td>1</td>\n",
              "    </tr>\n",
              "    <tr>\n",
              "      <th>4</th>\n",
              "      <td>20180329</td>\n",
              "      <td>SLN</td>\n",
              "      <td>NYN</td>\n",
              "      <td>4</td>\n",
              "      <td>9</td>\n",
              "      <td>1</td>\n",
              "      <td>0</td>\n",
              "      <td>1</td>\n",
              "    </tr>\n",
              "    <tr>\n",
              "      <th>...</th>\n",
              "      <td>...</td>\n",
              "      <td>...</td>\n",
              "      <td>...</td>\n",
              "      <td>...</td>\n",
              "      <td>...</td>\n",
              "      <td>...</td>\n",
              "      <td>...</td>\n",
              "      <td>...</td>\n",
              "    </tr>\n",
              "    <tr>\n",
              "      <th>2426</th>\n",
              "      <td>20180930</td>\n",
              "      <td>CHA</td>\n",
              "      <td>MIN</td>\n",
              "      <td>4</td>\n",
              "      <td>5</td>\n",
              "      <td>1</td>\n",
              "      <td>0</td>\n",
              "      <td>1</td>\n",
              "    </tr>\n",
              "    <tr>\n",
              "      <th>2427</th>\n",
              "      <td>20180930</td>\n",
              "      <td>TEX</td>\n",
              "      <td>SEA</td>\n",
              "      <td>1</td>\n",
              "      <td>3</td>\n",
              "      <td>1</td>\n",
              "      <td>0</td>\n",
              "      <td>1</td>\n",
              "    </tr>\n",
              "    <tr>\n",
              "      <th>2428</th>\n",
              "      <td>20180930</td>\n",
              "      <td>TOR</td>\n",
              "      <td>TBA</td>\n",
              "      <td>4</td>\n",
              "      <td>9</td>\n",
              "      <td>1</td>\n",
              "      <td>0</td>\n",
              "      <td>1</td>\n",
              "    </tr>\n",
              "    <tr>\n",
              "      <th>2429</th>\n",
              "      <td>20181001</td>\n",
              "      <td>MIL</td>\n",
              "      <td>CHN</td>\n",
              "      <td>3</td>\n",
              "      <td>1</td>\n",
              "      <td>0</td>\n",
              "      <td>1</td>\n",
              "      <td>1</td>\n",
              "    </tr>\n",
              "    <tr>\n",
              "      <th>2430</th>\n",
              "      <td>20181001</td>\n",
              "      <td>COL</td>\n",
              "      <td>LAN</td>\n",
              "      <td>2</td>\n",
              "      <td>5</td>\n",
              "      <td>1</td>\n",
              "      <td>0</td>\n",
              "      <td>1</td>\n",
              "    </tr>\n",
              "  </tbody>\n",
              "</table>\n",
              "<p>2431 rows × 8 columns</p>\n",
              "</div>"
            ],
            "text/plain": [
              "          date away home  away-score  home-score  home-win  away-win  count\n",
              "0     20180329  COL  ARI           2           8         1         0      1\n",
              "1     20180329  PHI  ATL           5           8         1         0      1\n",
              "2     20180329  SFN  LAN           1           0         0         1      1\n",
              "3     20180329  CHN  MIA           8           4         0         1      1\n",
              "4     20180329  SLN  NYN           4           9         1         0      1\n",
              "...        ...  ...  ...         ...         ...       ...       ...    ...\n",
              "2426  20180930  CHA  MIN           4           5         1         0      1\n",
              "2427  20180930  TEX  SEA           1           3         1         0      1\n",
              "2428  20180930  TOR  TBA           4           9         1         0      1\n",
              "2429  20181001  MIL  CHN           3           1         0         1      1\n",
              "2430  20181001  COL  LAN           2           5         1         0      1\n",
              "\n",
              "[2431 rows x 8 columns]"
            ]
          },
          "metadata": {
            "tags": []
          },
          "execution_count": 9
        }
      ]
    },
    {
      "cell_type": "code",
      "metadata": {
        "colab": {
          "base_uri": "https://localhost:8080/"
        },
        "id": "zR0LzwnRspLL",
        "outputId": "746ed6ee-ea9c-4341-cc86-3fc999f0faef"
      },
      "source": [
        "data1=data.groupby(\"home\")[\"home-win\",\"home-score\",\"away-score\",\"count\"].sum().reset_index()"
      ],
      "execution_count": 10,
      "outputs": [
        {
          "output_type": "stream",
          "text": [
            "/usr/local/lib/python3.7/dist-packages/ipykernel_launcher.py:1: FutureWarning: Indexing with multiple keys (implicitly converted to a tuple of keys) will be deprecated, use a list instead.\n",
            "  \"\"\"Entry point for launching an IPython kernel.\n"
          ],
          "name": "stderr"
        }
      ]
    },
    {
      "cell_type": "code",
      "metadata": {
        "id": "gdypDvod3KKZ"
      },
      "source": [
        "data1.columns=[['team', 'home-win', 'home-score', 'away-score', 'count']]"
      ],
      "execution_count": 11,
      "outputs": []
    },
    {
      "cell_type": "code",
      "metadata": {
        "colab": {
          "base_uri": "https://localhost:8080/"
        },
        "id": "jCD3W8670ajs",
        "outputId": "487243bf-de0d-4ec3-a081-0d1bcf957b85"
      },
      "source": [
        "data2=data.groupby(\"away\")[\"away-win\",\"home-score\",\"away-score\",\"count\"].sum().reset_index()"
      ],
      "execution_count": 12,
      "outputs": [
        {
          "output_type": "stream",
          "text": [
            "/usr/local/lib/python3.7/dist-packages/ipykernel_launcher.py:1: FutureWarning: Indexing with multiple keys (implicitly converted to a tuple of keys) will be deprecated, use a list instead.\n",
            "  \"\"\"Entry point for launching an IPython kernel.\n"
          ],
          "name": "stderr"
        }
      ]
    },
    {
      "cell_type": "code",
      "metadata": {
        "id": "luCGHOae2gkg"
      },
      "source": [
        "data2.columns=['team', 'away-win', 'home-score', 'away-score', 'count']"
      ],
      "execution_count": 13,
      "outputs": []
    },
    {
      "cell_type": "code",
      "metadata": {
        "id": "jT78tDjU2h2O"
      },
      "source": [
        "teams=np.array(data2[\"team\"])"
      ],
      "execution_count": 14,
      "outputs": []
    },
    {
      "cell_type": "code",
      "metadata": {
        "id": "xxh6MDMM26Li",
        "colab": {
          "base_uri": "https://localhost:8080/",
          "height": 206
        },
        "outputId": "7ee7a146-b750-4aca-9652-9487b8e3a5df"
      },
      "source": [
        "data1.head()"
      ],
      "execution_count": 15,
      "outputs": [
        {
          "output_type": "execute_result",
          "data": {
            "text/html": [
              "<div>\n",
              "<style scoped>\n",
              "    .dataframe tbody tr th:only-of-type {\n",
              "        vertical-align: middle;\n",
              "    }\n",
              "\n",
              "    .dataframe tbody tr th {\n",
              "        vertical-align: top;\n",
              "    }\n",
              "\n",
              "    .dataframe thead tr th {\n",
              "        text-align: left;\n",
              "    }\n",
              "</style>\n",
              "<table border=\"1\" class=\"dataframe\">\n",
              "  <thead>\n",
              "    <tr>\n",
              "      <th></th>\n",
              "      <th>team</th>\n",
              "      <th>home-win</th>\n",
              "      <th>home-score</th>\n",
              "      <th>away-score</th>\n",
              "      <th>count</th>\n",
              "    </tr>\n",
              "  </thead>\n",
              "  <tbody>\n",
              "    <tr>\n",
              "      <th>0</th>\n",
              "      <td>ANA</td>\n",
              "      <td>42</td>\n",
              "      <td>355</td>\n",
              "      <td>355</td>\n",
              "      <td>81</td>\n",
              "    </tr>\n",
              "    <tr>\n",
              "      <th>1</th>\n",
              "      <td>ARI</td>\n",
              "      <td>40</td>\n",
              "      <td>359</td>\n",
              "      <td>328</td>\n",
              "      <td>81</td>\n",
              "    </tr>\n",
              "    <tr>\n",
              "      <th>2</th>\n",
              "      <td>ATL</td>\n",
              "      <td>43</td>\n",
              "      <td>391</td>\n",
              "      <td>357</td>\n",
              "      <td>81</td>\n",
              "    </tr>\n",
              "    <tr>\n",
              "      <th>3</th>\n",
              "      <td>BAL</td>\n",
              "      <td>28</td>\n",
              "      <td>339</td>\n",
              "      <td>411</td>\n",
              "      <td>81</td>\n",
              "    </tr>\n",
              "    <tr>\n",
              "      <th>4</th>\n",
              "      <td>BOS</td>\n",
              "      <td>57</td>\n",
              "      <td>468</td>\n",
              "      <td>322</td>\n",
              "      <td>81</td>\n",
              "    </tr>\n",
              "  </tbody>\n",
              "</table>\n",
              "</div>"
            ],
            "text/plain": [
              "  team home-win home-score away-score count\n",
              "0  ANA       42        355        355    81\n",
              "1  ARI       40        359        328    81\n",
              "2  ATL       43        391        357    81\n",
              "3  BAL       28        339        411    81\n",
              "4  BOS       57        468        322    81"
            ]
          },
          "metadata": {
            "tags": []
          },
          "execution_count": 15
        }
      ]
    },
    {
      "cell_type": "code",
      "metadata": {
        "colab": {
          "base_uri": "https://localhost:8080/",
          "height": 206
        },
        "id": "j5bRX26FT0Do",
        "outputId": "1eb77412-3339-4cf5-d1e8-c39393f82c7f"
      },
      "source": [
        "data2.head()"
      ],
      "execution_count": 16,
      "outputs": [
        {
          "output_type": "execute_result",
          "data": {
            "text/html": [
              "<div>\n",
              "<style scoped>\n",
              "    .dataframe tbody tr th:only-of-type {\n",
              "        vertical-align: middle;\n",
              "    }\n",
              "\n",
              "    .dataframe tbody tr th {\n",
              "        vertical-align: top;\n",
              "    }\n",
              "\n",
              "    .dataframe thead th {\n",
              "        text-align: right;\n",
              "    }\n",
              "</style>\n",
              "<table border=\"1\" class=\"dataframe\">\n",
              "  <thead>\n",
              "    <tr style=\"text-align: right;\">\n",
              "      <th></th>\n",
              "      <th>team</th>\n",
              "      <th>away-win</th>\n",
              "      <th>home-score</th>\n",
              "      <th>away-score</th>\n",
              "      <th>count</th>\n",
              "    </tr>\n",
              "  </thead>\n",
              "  <tbody>\n",
              "    <tr>\n",
              "      <th>0</th>\n",
              "      <td>ANA</td>\n",
              "      <td>38</td>\n",
              "      <td>367</td>\n",
              "      <td>366</td>\n",
              "      <td>81</td>\n",
              "    </tr>\n",
              "    <tr>\n",
              "      <th>1</th>\n",
              "      <td>ARI</td>\n",
              "      <td>42</td>\n",
              "      <td>316</td>\n",
              "      <td>334</td>\n",
              "      <td>81</td>\n",
              "    </tr>\n",
              "    <tr>\n",
              "      <th>2</th>\n",
              "      <td>ATL</td>\n",
              "      <td>47</td>\n",
              "      <td>300</td>\n",
              "      <td>368</td>\n",
              "      <td>81</td>\n",
              "    </tr>\n",
              "    <tr>\n",
              "      <th>3</th>\n",
              "      <td>BAL</td>\n",
              "      <td>19</td>\n",
              "      <td>481</td>\n",
              "      <td>283</td>\n",
              "      <td>81</td>\n",
              "    </tr>\n",
              "    <tr>\n",
              "      <th>4</th>\n",
              "      <td>BOS</td>\n",
              "      <td>51</td>\n",
              "      <td>325</td>\n",
              "      <td>408</td>\n",
              "      <td>81</td>\n",
              "    </tr>\n",
              "  </tbody>\n",
              "</table>\n",
              "</div>"
            ],
            "text/plain": [
              "  team  away-win  home-score  away-score  count\n",
              "0  ANA        38         367         366     81\n",
              "1  ARI        42         316         334     81\n",
              "2  ATL        47         300         368     81\n",
              "3  BAL        19         481         283     81\n",
              "4  BOS        51         325         408     81"
            ]
          },
          "metadata": {
            "tags": []
          },
          "execution_count": 16
        }
      ]
    },
    {
      "cell_type": "code",
      "metadata": {
        "id": "0u_SFYUrTY-4"
      },
      "source": [
        "wins_ratio=[]\n",
        "runs_ratio=[]\n",
        "for i in range(len(data2)):\n",
        "  d1=list(data1.loc[i])\n",
        "  d2=list(data2.loc[i])\n",
        "  wins_ratio.append((d1[1]+d2[1])/(d1[1]+d2[1]+d1[4]+d2[4]))\n",
        "  runs_ratio.append(1/1+(((d1[2]+d2[3])/(d2[2]+d1[3]))**2))"
      ],
      "execution_count": 18,
      "outputs": []
    },
    {
      "cell_type": "code",
      "metadata": {
        "id": "X0LjVuMRW2kH"
      },
      "source": [
        "wins_ratio=np.array(wins_ratio)"
      ],
      "execution_count": 19,
      "outputs": []
    },
    {
      "cell_type": "code",
      "metadata": {
        "colab": {
          "base_uri": "https://localhost:8080/",
          "height": 297
        },
        "id": "bu151epbSCMd",
        "outputId": "5489367f-d428-42a3-e1f4-b305eaebbb9a"
      },
      "source": [
        "plt.scatter(wins_ratio,runs_ratio)\n",
        "plt.xlabel(\"wins-ratio\")\n",
        "plt.ylabel(\"runs-ratio\")"
      ],
      "execution_count": 20,
      "outputs": [
        {
          "output_type": "execute_result",
          "data": {
            "text/plain": [
              "Text(0, 0.5, 'runs-ratio')"
            ]
          },
          "metadata": {
            "tags": []
          },
          "execution_count": 20
        },
        {
          "output_type": "display_data",
          "data": {
            "image/png": "[encoded data removed]",
            "text/plain": [
              "<Figure size 432x288 with 1 Axes>"
            ]
          },
          "metadata": {
            "tags": [],
            "needs_background": "light"
          }
        }
      ]
    },
    {
      "cell_type": "code",
      "metadata": {
        "colab": {
          "base_uri": "https://localhost:8080/",
          "height": 283
        },
        "id": "l0caC3NDVQf_",
        "outputId": "dca6b0d0-7461-479c-e7a4-499d9f649ba1"
      },
      "source": [
        "from sklearn.linear_model import LinearRegression\n",
        "lr=LinearRegression()\n",
        "lr.fit(wins_ratio.reshape(-1,1),runs_ratio)\n",
        "y=lr.predict(wins_ratio.reshape(-1,1))\n",
        "plt.scatter(wins_ratio,y,label=\"linear fit\")\n",
        "plt.scatter(wins_ratio,runs_ratio,label=\"data\")"
      ],
      "execution_count": 21,
      "outputs": [
        {
          "output_type": "execute_result",
          "data": {
            "text/plain": [
              "<matplotlib.collections.PathCollection at 0x7ff1bd6e5f10>"
            ]
          },
          "metadata": {
            "tags": []
          },
          "execution_count": 21
        },
        {
          "output_type": "display_data",
          "data": {
            "image/png": "[encoded data removed]",
            "text/plain": [
              "<Figure size 432x288 with 1 Axes>"
            ]
          },
          "metadata": {
            "tags": [],
            "needs_background": "light"
          }
        }
      ]
    },
    {
      "cell_type": "code",
      "metadata": {
        "colab": {
          "base_uri": "https://localhost:8080/"
        },
        "id": "ABmjzgzRYNTk",
        "outputId": "f4c94bf1-4bf9-4427-aac1-b7566fed15ce"
      },
      "source": [
        "np.mean((y-runs_ratio)**2)"
      ],
      "execution_count": 22,
      "outputs": [
        {
          "output_type": "execute_result",
          "data": {
            "text/plain": [
              "0.03964714328027332"
            ]
          },
          "metadata": {
            "tags": []
          },
          "execution_count": 22
        }
      ]
    },
    {
      "cell_type": "code",
      "metadata": {
        "colab": {
          "base_uri": "https://localhost:8080/",
          "height": 283
        },
        "id": "7J8GAVerVvbg",
        "outputId": "ebfaae01-3993-4e3a-c215-026398074b2f"
      },
      "source": [
        "from sklearn.preprocessing import PolynomialFeatures\n",
        "from sklearn.pipeline import make_pipeline\n",
        "degree=2\n",
        "polyreg=make_pipeline(PolynomialFeatures(degree),LinearRegression())\n",
        "polyreg.fit(wins_ratio.reshape(-1,1),runs_ratio)\n",
        "y=polyreg.predict(wins_ratio.reshape(-1,1))\n",
        "plt.scatter(wins_ratio,y,label=\"linear fit\")\n",
        "plt.scatter(wins_ratio,runs_ratio,label=\"data\")"
      ],
      "execution_count": 23,
      "outputs": [
        {
          "output_type": "execute_result",
          "data": {
            "text/plain": [
              "<matplotlib.collections.PathCollection at 0x7ff1bd5fbcd0>"
            ]
          },
          "metadata": {
            "tags": []
          },
          "execution_count": 23
        },
        {
          "output_type": "display_data",
          "data": {
            "image/png": "[encoded data removed]",
            "text/plain": [
              "<Figure size 432x288 with 1 Axes>"
            ]
          },
          "metadata": {
            "tags": [],
            "needs_background": "light"
          }
        }
      ]
    },
    {
      "cell_type": "code",
      "metadata": {
        "colab": {
          "base_uri": "https://localhost:8080/"
        },
        "id": "2lhlK4S0X-6u",
        "outputId": "fba87dd8-f49e-43ea-d5ac-bff1e3fc0e4f"
      },
      "source": [
        "np.mean((y-runs_ratio)**2)"
      ],
      "execution_count": 24,
      "outputs": [
        {
          "output_type": "execute_result",
          "data": {
            "text/plain": [
              "0.026208315776256652"
            ]
          },
          "metadata": {
            "tags": []
          },
          "execution_count": 24
        }
      ]
    },
    {
      "cell_type": "code",
      "metadata": {
        "colab": {
          "base_uri": "https://localhost:8080/",
          "height": 283
        },
        "id": "dniurBcnYpTJ",
        "outputId": "020e2231-1a10-4588-df30-52ae5fc42df5"
      },
      "source": [
        "degree=3\n",
        "polyreg=make_pipeline(PolynomialFeatures(degree),LinearRegression())\n",
        "polyreg.fit(wins_ratio.reshape(-1,1),runs_ratio)\n",
        "y=polyreg.predict(wins_ratio.reshape(-1,1))\n",
        "plt.scatter(wins_ratio,y,label=\"linear fit\")\n",
        "plt.scatter(wins_ratio,runs_ratio,label=\"data\")"
      ],
      "execution_count": 25,
      "outputs": [
        {
          "output_type": "execute_result",
          "data": {
            "text/plain": [
              "<matplotlib.collections.PathCollection at 0x7ff1c0112f50>"
            ]
          },
          "metadata": {
            "tags": []
          },
          "execution_count": 25
        },
        {
          "output_type": "display_data",
          "data": {
            "image/png": "[encoded data removed]",
            "text/plain": [
              "<Figure size 432x288 with 1 Axes>"
            ]
          },
          "metadata": {
            "tags": [],
            "needs_background": "light"
          }
        }
      ]
    },
    {
      "cell_type": "code",
      "metadata": {
        "colab": {
          "base_uri": "https://localhost:8080/"
        },
        "id": "OfEh3SjTZB_f",
        "outputId": "2cb192ed-6a9c-4b2b-c20f-2615525431e5"
      },
      "source": [
        "np.mean((y-runs_ratio)**2)"
      ],
      "execution_count": 26,
      "outputs": [
        {
          "output_type": "execute_result",
          "data": {
            "text/plain": [
              "0.026135708346051247"
            ]
          },
          "metadata": {
            "tags": []
          },
          "execution_count": 26
        }
      ]
    },
    {
      "cell_type": "code",
      "metadata": {
        "colab": {
          "base_uri": "https://localhost:8080/",
          "height": 584
        },
        "id": "3feYamXlYyTY",
        "outputId": "b508fb35-ca16-432c-9f34-3ff4dc875999"
      },
      "source": [
        "error=[]\n",
        "plt.figure(figsize=(20,20))\n",
        "for j in range(1,9):\n",
        "  degree=j\n",
        "  wins_ratio=[]\n",
        "  runs_ratio=[]\n",
        "  for i in range(len(data2)):\n",
        "    d1=list(data1.loc[i])\n",
        "    d2=list(data2.loc[i])\n",
        "    wins_ratio.append((d1[1]+d2[1])/(d1[1]+d2[1]+d1[4]+d2[4]))\n",
        "    runs_ratio.append(1/1+(((d1[2]+d2[3])/(d2[2]+d1[3]))**j))\n",
        "  wins_ratio=np.array(wins_ratio)\n",
        "  polyreg=LinearRegression(fit_intercept=False)\n",
        "  polyreg.fit((wins_ratio.reshape(-1,1)),runs_ratio)\n",
        "  y=polyreg.predict(wins_ratio.reshape(-1,1))\n",
        "  plt.subplot(4,4,j)\n",
        "  plt.scatter(wins_ratio,y,label=\"model fit\")\n",
        "  plt.scatter(wins_ratio,runs_ratio,label=\"data\")\n",
        "  err_cur=np.mean((y-runs_ratio)**2)\n",
        "  error.append(err_cur)\n",
        "  plt.title(\"Degree:\"+str(j)+\" LSE:\"+str(err_cur))\n",
        "  plt.legend()\n",
        "plt.show()"
      ],
      "execution_count": 35,
      "outputs": [
        {
          "output_type": "display_data",
          "data": {
            "image/png": "[encoded data removed]",
            "text/plain": [
              "<Figure size 1440x1440 with 8 Axes>"
            ]
          },
          "metadata": {
            "tags": [],
            "needs_background": "light"
          }
        }
      ]
    },
    {
      "cell_type": "code",
      "metadata": {
        "colab": {
          "base_uri": "https://localhost:8080/",
          "height": 265
        },
        "id": "GS1OZhPsY1cO",
        "outputId": "9680abb3-1feb-4945-b774-c4f406cd57cc"
      },
      "source": [
        "plt.plot(error)\n",
        "plt.show()"
      ],
      "execution_count": 36,
      "outputs": [
        {
          "output_type": "display_data",
          "data": {
            "image/png": "[encoded data removed]",
            "text/plain": [
              "<Figure size 432x288 with 1 Axes>"
            ]
          },
          "metadata": {
            "tags": [],
            "needs_background": "light"
          }
        }
      ]
    },
    {
      "cell_type": "code",
      "metadata": {
        "id": "nlG4BDYfZ7lp"
      },
      "source": [
        ""
      ],
      "execution_count": 29,
      "outputs": []
    }
  ]
}